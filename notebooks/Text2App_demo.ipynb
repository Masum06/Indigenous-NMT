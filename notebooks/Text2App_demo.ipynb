{
  "nbformat": 4,
  "nbformat_minor": 0,
  "metadata": {
    "colab": {
      "name": "Text2App demo",
      "provenance": [],
      "collapsed_sections": [],
      "include_colab_link": true
    },
    "kernelspec": {
      "name": "python3",
      "display_name": "Python 3"
    },
    "language_info": {
      "name": "python"
    }
  },
  "cells": [
    {
      "cell_type": "markdown",
      "metadata": {
        "id": "view-in-github",
        "colab_type": "text"
      },
      "source": [
        "<a href=\"https://colab.research.google.com/github/Masum06/Text2App/blob/master/notebooks/Text2App_demo.ipynb\" target=\"_parent\"><img src=\"https://colab.research.google.com/assets/colab-badge.svg\" alt=\"Open In Colab\"/></a>"
      ]
    },
    {
      "cell_type": "code",
      "metadata": {
        "id": "hDvnsQKz34tu"
      },
      "source": [
        "from IPython.display import clear_output"
      ],
      "execution_count": null,
      "outputs": []
    },
    {
      "cell_type": "code",
      "metadata": {
        "colab": {
          "base_uri": "https://localhost:8080/"
        },
        "id": "Pr9gsS2xWBQF",
        "outputId": "16a16799-cf75-4166-fe20-33cf35c1642d"
      },
      "source": [
        "!git clone https://github.com/Masum06/Text2App.git"
      ],
      "execution_count": null,
      "outputs": [
        {
          "output_type": "stream",
          "text": [
            "Cloning into 'Text2App'...\n",
            "remote: Enumerating objects: 3, done.\u001b[K\n",
            "remote: Counting objects: 100% (3/3), done.\u001b[K\n",
            "remote: Compressing objects: 100% (3/3), done.\u001b[K\n",
            "remote: Total 400 (delta 0), reused 1 (delta 0), pack-reused 397\u001b[K\n",
            "Receiving objects: 100% (400/400), 195.06 MiB | 26.38 MiB/s, done.\n",
            "Resolving deltas: 100% (82/82), done.\n"
          ],
          "name": "stdout"
        }
      ]
    },
    {
      "cell_type": "code",
      "metadata": {
        "id": "QI9otLwMI4rc"
      },
      "source": [
        "!apt-get install tree\n",
        "clear_output()"
      ],
      "execution_count": null,
      "outputs": []
    },
    {
      "cell_type": "code",
      "metadata": {
        "colab": {
          "base_uri": "https://localhost:8080/"
        },
        "id": "nNWPoPomZ3wx",
        "outputId": "692494f7-18ae-4e6a-8657-0dc0c7b98dec"
      },
      "source": [
        "cd Text2App"
      ],
      "execution_count": null,
      "outputs": [
        {
          "output_type": "stream",
          "text": [
            "/content/Text2App\n"
          ],
          "name": "stdout"
        }
      ]
    },
    {
      "cell_type": "code",
      "metadata": {
        "id": "nq_PBgbEWKka"
      },
      "source": [
        "!pip install -r requirements.txt\n",
        "clear_output()"
      ],
      "execution_count": null,
      "outputs": []
    },
    {
      "cell_type": "code",
      "metadata": {
        "id": "aHr7yDQnWNla"
      },
      "source": [
        "from Text2App import Text2App, sar_to_aia\n",
        "clear_output()"
      ],
      "execution_count": null,
      "outputs": []
    },
    {
      "cell_type": "markdown",
      "metadata": {
        "id": "hG3mQjw3HRfp"
      },
      "source": [
        "## Natural Language to Simplified App Representation (SAR)"
      ]
    },
    {
      "cell_type": "markdown",
      "metadata": {
        "id": "35VP7DQ_4g7l"
      },
      "source": [
        "**Please describe an app in natural language using the following components:**\n",
        "\n",
        "`'textbox', 'button', 'text2speech', 'ball', 'accelerometer', 'video_player', 'switch', 'player', 'label', 'timepicker', 'passwordtextbox'`\n",
        "\n",
        "Assets:\n",
        "\n",
        "\n",
        "\n",
        "Example **description**:\n",
        "\n",
        "***Create a mobile application with a textbox, a button, and a text2speech. When the button is pressed, say the text in the text box.***"
      ]
    },
    {
      "cell_type": "code",
      "metadata": {
        "colab": {
          "base_uri": "https://localhost:8080/"
        },
        "id": "JsF46d41I1P0",
        "outputId": "00428968-d71c-43a0-c8d9-07f72ffdee38"
      },
      "source": [
        "!tree Media"
      ],
      "execution_count": null,
      "outputs": [
        {
          "output_type": "stream",
          "text": [
            "Media\n",
            "├── Music\n",
            "│   ├── clap_up.mp3\n",
            "│   ├── happy_beats.mp3\n",
            "│   └── jingle.mp3\n",
            "└── Videos\n",
            "    ├── flowers.mp4\n",
            "    ├── grapes.mp4\n",
            "    ├── occean.mp4\n",
            "    ├── seagul.mp4\n",
            "    ├── sunset.mp4\n",
            "    └── text2app_live.mp4\n",
            "\n",
            "2 directories, 9 files\n"
          ],
          "name": "stdout"
        }
      ]
    },
    {
      "cell_type": "code",
      "metadata": {
        "id": "bRS_QHeoXHRE"
      },
      "source": [
        "NL = 'Make an app with a video player, a button, an accelerometer, and a text to speech. When the button is pressed, play the video. When the accelerometer is shaken, say \"Welcome to text to app!\".'"
      ],
      "execution_count": null,
      "outputs": []
    },
    {
      "cell_type": "code",
      "metadata": {
        "id": "mgYKDDjyW3GH"
      },
      "source": [
        "t2a = Text2App(NL)"
      ],
      "execution_count": null,
      "outputs": []
    },
    {
      "cell_type": "markdown",
      "metadata": {
        "id": "Y50m-1675tfo"
      },
      "source": [
        "**Processed Natural Language**"
      ]
    },
    {
      "cell_type": "code",
      "metadata": {
        "colab": {
          "base_uri": "https://localhost:8080/",
          "height": 1000
        },
        "id": "xODhKMj8aMGM",
        "outputId": "9063fed6-dfb3-405b-df4e-0085f7a2b546"
      },
      "source": [
        "t2a.NL"
      ],
      "execution_count": null,
      "outputs": [
        {
          "output_type": "execute_result",
          "data": {
            "application/vnd.google.colaboratory.intrinsic+json": {
              "type": "string"
            },
            "text/plain": [
              "'make an app with a video player , a button , an accelerometer , and a text to speech . when the button is pressed , play the video . when the accelerometer is shaken , say string0.'"
            ]
          },
          "metadata": {
            "tags": []
          },
          "execution_count": 10
        }
      ]
    },
    {
      "cell_type": "code",
      "metadata": {
        "colab": {
          "base_uri": "https://localhost:8080/",
          "height": 52
        },
        "id": "wyCKrGxPXmSf",
        "outputId": "11598445-00fc-4399-e4b8-da39586d176b"
      },
      "source": [
        "t2a.SAR"
      ],
      "execution_count": null,
      "outputs": [
        {
          "output_type": "execute_result",
          "data": {
            "application/vnd.google.colaboratory.intrinsic+json": {
              "type": "string"
            },
            "text/plain": [
              "'<complist> <video_player> random_video_player_source </video_player> <button> button1 </button> <accelerometer> <text2speech> </complist> <code> <button1clicked> <video_player1> <start> </video_player1> </button1clicked> <accelerometer1shaken> <text2speech1> string0 </text2speech1> </accelerometer1shaken> </code>'"
            ]
          },
          "metadata": {
            "tags": []
          },
          "execution_count": 11
        }
      ]
    },
    {
      "cell_type": "code",
      "metadata": {
        "colab": {
          "base_uri": "https://localhost:8080/"
        },
        "id": "Q34yLkIIHKiz",
        "outputId": "b5a284b3-e29e-4595-e1ec-8bb41bb71558"
      },
      "source": [
        "t2a.literal_dict"
      ],
      "execution_count": null,
      "outputs": [
        {
          "output_type": "execute_result",
          "data": {
            "text/plain": [
              "{'button1': 'button1',\n",
              " 'button2': 'button2',\n",
              " 'button3': 'button3',\n",
              " 'label1': 'label1',\n",
              " 'label2': 'label2',\n",
              " 'label3': 'label3',\n",
              " 'random_player_source': 'clap_up.mp3',\n",
              " 'random_video_player_source': 'occean.mp4',\n",
              " 'string0': 'welcome to text to app ! ',\n",
              " 'switch1': 'switch1',\n",
              " 'switch2': 'switch2',\n",
              " 'switch3': 'switch3'}"
            ]
          },
          "metadata": {
            "tags": []
          },
          "execution_count": 12
        }
      ]
    },
    {
      "cell_type": "markdown",
      "metadata": {
        "id": "9lYwBTTfHMZV"
      },
      "source": [
        "## Compile SAR to Application source"
      ]
    },
    {
      "cell_type": "code",
      "metadata": {
        "id": "fMqW4qlnK7PL"
      },
      "source": [
        "app_name = \"video_and_button\""
      ],
      "execution_count": null,
      "outputs": []
    },
    {
      "cell_type": "code",
      "metadata": {
        "id": "SlMYUAQBiSCt"
      },
      "source": [
        "sar_to_aia(t2a, project_name=app_name)"
      ],
      "execution_count": null,
      "outputs": []
    },
    {
      "cell_type": "code",
      "metadata": {
        "colab": {
          "base_uri": "https://localhost:8080/",
          "height": 33
        },
        "id": "PGV-SD3LE69H",
        "outputId": "6cc9ed11-d683-40c1-b63a-2003ab794bc8"
      },
      "source": [
        "from google.colab import files\n",
        "\n",
        "files.download(app_name+'.aia')"
      ],
      "execution_count": null,
      "outputs": [
        {
          "output_type": "display_data",
          "data": {
            "application/javascript": [
              "\n",
              "    async function download(id, filename, size) {\n",
              "      if (!google.colab.kernel.accessAllowed) {\n",
              "        return;\n",
              "      }\n",
              "      const div = document.createElement('div');\n",
              "      const label = document.createElement('label');\n",
              "      label.textContent = `Downloading \"${filename}\": `;\n",
              "      div.appendChild(label);\n",
              "      const progress = document.createElement('progress');\n",
              "      progress.max = size;\n",
              "      div.appendChild(progress);\n",
              "      document.body.appendChild(div);\n",
              "\n",
              "      const buffers = [];\n",
              "      let downloaded = 0;\n",
              "\n",
              "      const channel = await google.colab.kernel.comms.open(id);\n",
              "      // Send a message to notify the kernel that we're ready.\n",
              "      channel.send({})\n",
              "\n",
              "      for await (const message of channel.messages) {\n",
              "        // Send a message to notify the kernel that we're ready.\n",
              "        channel.send({})\n",
              "        if (message.buffers) {\n",
              "          for (const buffer of message.buffers) {\n",
              "            buffers.push(buffer);\n",
              "            downloaded += buffer.byteLength;\n",
              "            progress.value = downloaded;\n",
              "          }\n",
              "        }\n",
              "      }\n",
              "      const blob = new Blob(buffers, {type: 'application/binary'});\n",
              "      const a = document.createElement('a');\n",
              "      a.href = window.URL.createObjectURL(blob);\n",
              "      a.download = filename;\n",
              "      div.appendChild(a);\n",
              "      a.click();\n",
              "      div.remove();\n",
              "    }\n",
              "  "
            ],
            "text/plain": [
              "<IPython.core.display.Javascript object>"
            ]
          },
          "metadata": {
            "tags": []
          }
        },
        {
          "output_type": "display_data",
          "data": {
            "application/javascript": [
              "download(\"download_6e985310-43a7-426f-aab0-e0b65b2bcad2\", \"video_and_button.aia\", 9920156)"
            ],
            "text/plain": [
              "<IPython.core.display.Javascript object>"
            ]
          },
          "metadata": {
            "tags": []
          }
        }
      ]
    },
    {
      "cell_type": "code",
      "metadata": {
        "id": "9kQ0AuRAiVlH"
      },
      "source": [
        ""
      ],
      "execution_count": null,
      "outputs": []
    }
  ]
}