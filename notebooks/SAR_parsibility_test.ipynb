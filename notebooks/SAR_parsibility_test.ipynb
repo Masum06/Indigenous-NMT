{
  "nbformat": 4,
  "nbformat_minor": 0,
  "metadata": {
    "colab": {
      "name": "SAR parsibility test",
      "provenance": [],
      "authorship_tag": "ABX9TyNg/Y/ChZyCbEUfvLxoIDRi",
      "include_colab_link": true
    },
    "kernelspec": {
      "name": "python3",
      "display_name": "Python 3"
    },
    "language_info": {
      "name": "python"
    }
  },
  "cells": [
    {
      "cell_type": "markdown",
      "metadata": {
        "id": "view-in-github",
        "colab_type": "text"
      },
      "source": [
        "<a href=\"https://colab.research.google.com/github/Masum06/Text2App/blob/master/notebooks/SAR_parsibility_test.ipynb\" target=\"_parent\"><img src=\"https://colab.research.google.com/assets/colab-badge.svg\" alt=\"Open In Colab\"/></a>"
      ]
    },
    {
      "cell_type": "code",
      "metadata": {
        "id": "1Vql5-eELYOx"
      },
      "source": [
        "import xml.etree.ElementTree as ET"
      ],
      "execution_count": 1,
      "outputs": []
    },
    {
      "cell_type": "code",
      "metadata": {
        "colab": {
          "base_uri": "https://localhost:8080/"
        },
        "id": "DFY5Dl6bLpdM",
        "outputId": "34273dc3-a178-4521-b69f-763e4b5c13c2"
      },
      "source": [
        "!git clone https://github.com/Masum06/Text2App.git"
      ],
      "execution_count": 2,
      "outputs": [
        {
          "output_type": "stream",
          "text": [
            "Cloning into 'Text2App'...\n",
            "remote: Enumerating objects: 31, done.\u001b[K\n",
            "remote: Counting objects: 100% (31/31), done.\u001b[K\n",
            "remote: Compressing objects: 100% (18/18), done.\u001b[K\n",
            "remote: Total 428 (delta 17), reused 21 (delta 13), pack-reused 397\u001b[K\n",
            "Receiving objects: 100% (428/428), 198.93 MiB | 39.47 MiB/s, done.\n",
            "Resolving deltas: 100% (99/99), done.\n"
          ],
          "name": "stdout"
        }
      ]
    },
    {
      "cell_type": "code",
      "metadata": {
        "id": "9dCVp9GvL7Bx"
      },
      "source": [
        "import pandas as pd\n",
        "train = pd.read_csv('Text2App/synthesized_data/nl_sar_train.csv')"
      ],
      "execution_count": 3,
      "outputs": []
    },
    {
      "cell_type": "code",
      "metadata": {
        "colab": {
          "base_uri": "https://localhost:8080/"
        },
        "id": "mbi5iuvrMAUC",
        "outputId": "e645f4b9-97e7-4800-8380-a54c46b3841d"
      },
      "source": [
        "vocabs = list(set(\" \".join(list(train['SAR'])).split()))\n",
        "vocabs"
      ],
      "execution_count": 4,
      "outputs": [
        {
          "output_type": "execute_result",
          "data": {
            "text/plain": [
              "['</video_player3>',\n",
              " '<label1>',\n",
              " 'string6',\n",
              " 'string2',\n",
              " '</complist>',\n",
              " '</label3>',\n",
              " '<switch3flipped>',\n",
              " '<textboxtext2>',\n",
              " '<player3>',\n",
              " '<yellow>',\n",
              " '<ball1flung>',\n",
              " '</button2clicked>',\n",
              " '<accelerometer>',\n",
              " '</button1clicked>',\n",
              " 'string4',\n",
              " '</button>',\n",
              " '</label1>',\n",
              " '<orange>',\n",
              " '<start>',\n",
              " '</ball1>',\n",
              " '<textbox>',\n",
              " '<dark_gray>',\n",
              " '<accelerometer1shaken>',\n",
              " '<video_player2>',\n",
              " '<player2>',\n",
              " '<ball1reach_edge>',\n",
              " '<ball>',\n",
              " '</color>',\n",
              " '<red>',\n",
              " '</video_player2>',\n",
              " 'number0',\n",
              " '<player1>',\n",
              " '<pink>',\n",
              " '</switch3flipped>',\n",
              " 'button1',\n",
              " '<button3clicked>',\n",
              " 'switch1',\n",
              " '<video_player1>',\n",
              " '</player1>',\n",
              " '</player>',\n",
              " '<motion>',\n",
              " '<speed>',\n",
              " 'switch3',\n",
              " '<text2speech1>',\n",
              " '<light_gray>',\n",
              " '</speed>',\n",
              " '<textboxtext1>',\n",
              " '</switch1flipped>',\n",
              " '<heading>',\n",
              " '</label2>',\n",
              " 'string0',\n",
              " '<switch1flipped>',\n",
              " '<ball1>',\n",
              " '<radius>',\n",
              " 'button3',\n",
              " '</accelerometer1shaken>',\n",
              " '<time1>',\n",
              " '<text2speech>',\n",
              " '<textboxtext3>',\n",
              " 'string7',\n",
              " 'label3',\n",
              " '<switch>',\n",
              " '<time3>',\n",
              " '</radius>',\n",
              " 'string5',\n",
              " '</video_player>',\n",
              " '</code>',\n",
              " '<cyan>',\n",
              " 'label2',\n",
              " '<video_player3>',\n",
              " '<blue>',\n",
              " '<button2clicked>',\n",
              " '<button1clicked>',\n",
              " 'button2',\n",
              " '<complist>',\n",
              " 'random_player_source',\n",
              " '<gray>',\n",
              " 'string3',\n",
              " '<video_player>',\n",
              " '</player3>',\n",
              " '<timepicker>',\n",
              " '<label>',\n",
              " 'string1',\n",
              " '</switch2flipped>',\n",
              " '<magenta>',\n",
              " '<color>',\n",
              " 'label1',\n",
              " '<label3>',\n",
              " '<player>',\n",
              " '<bounce>',\n",
              " '</player2>',\n",
              " '</label>',\n",
              " '</heading>',\n",
              " 'random_video_player_source',\n",
              " '<switch2flipped>',\n",
              " '</ball1reach_edge>',\n",
              " '<black>',\n",
              " '</video_player1>',\n",
              " '<button>',\n",
              " 'switch2',\n",
              " '</button3clicked>',\n",
              " '<passwordtextbox>',\n",
              " '<time2>',\n",
              " '<code>',\n",
              " '</switch>',\n",
              " '<label2>',\n",
              " '<green>',\n",
              " '</text2speech1>',\n",
              " '</ball1flung>',\n",
              " '<stop>']"
            ]
          },
          "metadata": {
            "tags": []
          },
          "execution_count": 4
        }
      ]
    },
    {
      "cell_type": "code",
      "metadata": {
        "colab": {
          "base_uri": "https://localhost:8080/"
        },
        "id": "a5CX7gfbMODQ",
        "outputId": "b8295386-712b-4b6c-83ea-a05422a2ac07"
      },
      "source": [
        "single_tokens = []\n",
        "for token in vocabs:\n",
        "  if token[0] != \"<\" or token[:2] == \"</\":\n",
        "    continue\n",
        "  elif token.replace(\"<\", \"</\") not in vocabs:\n",
        "    single_tokens.append(token)\n",
        "\n",
        "single_tokens"
      ],
      "execution_count": 8,
      "outputs": [
        {
          "output_type": "execute_result",
          "data": {
            "text/plain": [
              "['<textboxtext2>',\n",
              " '<yellow>',\n",
              " '<accelerometer>',\n",
              " '<orange>',\n",
              " '<start>',\n",
              " '<textbox>',\n",
              " '<dark_gray>',\n",
              " '<ball>',\n",
              " '<red>',\n",
              " '<pink>',\n",
              " '<motion>',\n",
              " '<light_gray>',\n",
              " '<textboxtext1>',\n",
              " '<time1>',\n",
              " '<text2speech>',\n",
              " '<textboxtext3>',\n",
              " '<time3>',\n",
              " '<cyan>',\n",
              " '<blue>',\n",
              " '<gray>',\n",
              " '<timepicker>',\n",
              " '<magenta>',\n",
              " '<bounce>',\n",
              " '<black>',\n",
              " '<passwordtextbox>',\n",
              " '<time2>',\n",
              " '<green>',\n",
              " '<stop>']"
            ]
          },
          "metadata": {
            "tags": []
          },
          "execution_count": 8
        }
      ]
    },
    {
      "cell_type": "code",
      "metadata": {
        "id": "wkMQf3UKLfdc"
      },
      "source": [
        "def format_sar_xml(sar):\n",
        "  sar = \"<SAR> \"+sar+\" </SAR>\"\n",
        "  for token in single_tokens:\n",
        "    if token in sar:\n",
        "      sar = sar.replace(token, token.replace(\">\", \"/>\"))\n",
        "  return sar"
      ],
      "execution_count": 9,
      "outputs": []
    },
    {
      "cell_type": "code",
      "metadata": {
        "id": "uw_zRjOcNa5n"
      },
      "source": [
        "def count_errors(sar_list):\n",
        "  error_count = 0\n",
        "  for sar in sar_list:\n",
        "    try:\n",
        "      sar = format_sar_xml(sar)\n",
        "      ET.fromstring(sar)\n",
        "    except:\n",
        "      error_count += 1\n",
        "  return error_count"
      ],
      "execution_count": 13,
      "outputs": []
    },
    {
      "cell_type": "code",
      "metadata": {
        "colab": {
          "base_uri": "https://localhost:8080/"
        },
        "id": "omrnXJ2VN5BR",
        "outputId": "3665b37b-5870-46bb-e333-f7a25929ac9d"
      },
      "source": [
        "count_errors(list(train.SAR))"
      ],
      "execution_count": 14,
      "outputs": [
        {
          "output_type": "execute_result",
          "data": {
            "text/plain": [
              "0"
            ]
          },
          "metadata": {
            "tags": []
          },
          "execution_count": 14
        }
      ]
    },
    {
      "cell_type": "code",
      "metadata": {
        "id": "j-E8rOrNN9LV"
      },
      "source": [
        "file = open('codebert_10%_noise_pred.output', 'r')\n",
        "lines = file.readlines()\n",
        "lines\n",
        "\n",
        "sar_list = []\n",
        "for line in lines:\n",
        "  sar_list.append(line.split('\\t')[1][:-1])"
      ],
      "execution_count": 21,
      "outputs": []
    },
    {
      "cell_type": "code",
      "metadata": {
        "colab": {
          "base_uri": "https://localhost:8080/"
        },
        "id": "sC7rjpnsPjNz",
        "outputId": "efc79b2a-232d-4327-b4ca-6ac52196211c"
      },
      "source": [
        "count_errors(sar_list)"
      ],
      "execution_count": 22,
      "outputs": [
        {
          "output_type": "execute_result",
          "data": {
            "text/plain": [
              "0"
            ]
          },
          "metadata": {
            "tags": []
          },
          "execution_count": 22
        }
      ]
    },
    {
      "cell_type": "code",
      "metadata": {
        "id": "U8nVIiLaP5tl"
      },
      "source": [
        ""
      ],
      "execution_count": null,
      "outputs": []
    }
  ]
}