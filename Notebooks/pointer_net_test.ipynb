{
  "nbformat": 4,
  "nbformat_minor": 0,
  "metadata": {
    "colab": {
      "name": "pointer_net_test",
      "provenance": [],
      "collapsed_sections": [],
      "toc_visible": true,
      "include_colab_link": true
    },
    "kernelspec": {
      "name": "python3",
      "display_name": "Python 3"
    },
    "accelerator": "GPU"
  },
  "cells": [
    {
      "cell_type": "markdown",
      "metadata": {
        "id": "view-in-github",
        "colab_type": "text"
      },
      "source": [
        "<a href=\"https://colab.research.google.com/github/Masum06/Indigenous-NMT/blob/main/Notebooks/pointer_net_test.ipynb\" target=\"_parent\"><img src=\"https://colab.research.google.com/assets/colab-badge.svg\" alt=\"Open In Colab\"/></a>"
      ]
    },
    {
      "cell_type": "code",
      "metadata": {
        "colab": {
          "base_uri": "https://localhost:8080/"
        },
        "id": "UjtEapraFAM0",
        "outputId": "35499310-e284-41ec-b1fc-d3108661e102"
      },
      "source": [
        "!git clone https://github.com/Masum06/Indigenous-NMT.git"
      ],
      "execution_count": 1,
      "outputs": [
        {
          "output_type": "stream",
          "text": [
            "Cloning into 'Indigenous-NMT'...\n",
            "remote: Enumerating objects: 244, done.\u001b[K\n",
            "remote: Counting objects: 100% (244/244), done.\u001b[K\n",
            "remote: Compressing objects: 100% (213/213), done.\u001b[K\n",
            "remote: Total 244 (delta 22), reused 231 (delta 17), pack-reused 0\u001b[K\n",
            "Receiving objects: 100% (244/244), 97.50 MiB | 33.21 MiB/s, done.\n",
            "Resolving deltas: 100% (22/22), done.\n"
          ],
          "name": "stdout"
        }
      ]
    },
    {
      "cell_type": "code",
      "metadata": {
        "colab": {
          "base_uri": "https://localhost:8080/"
        },
        "id": "Rfl7_ni-_Ay2",
        "outputId": "eae7e0c5-1855-4b25-898f-d86fea78683d"
      },
      "source": [
        "ls"
      ],
      "execution_count": 2,
      "outputs": [
        {
          "output_type": "stream",
          "text": [
            "\u001b[0m\u001b[01;34mIndigenous-NMT\u001b[0m/  \u001b[01;34msample_data\u001b[0m/\n"
          ],
          "name": "stdout"
        }
      ]
    },
    {
      "cell_type": "code",
      "metadata": {
        "colab": {
          "base_uri": "https://localhost:8080/"
        },
        "id": "Xpwu7OSqFNwS",
        "outputId": "1271ec15-fe5f-4122-b7b1-575d9213b8e1"
      },
      "source": [
        "cd Indigenous-NMT"
      ],
      "execution_count": 3,
      "outputs": [
        {
          "output_type": "stream",
          "text": [
            "/content/Indigenous-NMT\n"
          ],
          "name": "stdout"
        }
      ]
    },
    {
      "cell_type": "code",
      "metadata": {
        "id": "Db95XQb291-I"
      },
      "source": [
        "import pandas as pd\n",
        "import os"
      ],
      "execution_count": 4,
      "outputs": []
    },
    {
      "cell_type": "code",
      "metadata": {
        "id": "9qb33mDMqQmg"
      },
      "source": [
        "def split(s):\n",
        "  s = s.replace(\" \", \"_\")\n",
        "  s = ' '.join(list(s))\n",
        "  return s"
      ],
      "execution_count": 5,
      "outputs": []
    },
    {
      "cell_type": "code",
      "metadata": {
        "id": "WBvVZsexrPW_"
      },
      "source": [
        "def merge(s):\n",
        "  s = s.replace('\\n', '_')\n",
        "  s = ''.join(s.split())\n",
        "  s = s.replace(\"_\", ' ')\n",
        "  return s"
      ],
      "execution_count": 6,
      "outputs": []
    },
    {
      "cell_type": "code",
      "metadata": {
        "id": "ZbFLOWMUAQpK"
      },
      "source": [
        "!pip install OpenNMT-py"
      ],
      "execution_count": null,
      "outputs": []
    },
    {
      "cell_type": "code",
      "metadata": {
        "id": "y-1X8n45AeNL"
      },
      "source": [
        "!export CUDA_VISIBLE_DEVICES"
      ],
      "execution_count": 8,
      "outputs": []
    },
    {
      "cell_type": "markdown",
      "metadata": {
        "id": "tw6jJN49wNIz"
      },
      "source": [
        "# Single data Test"
      ]
    },
    {
      "cell_type": "code",
      "metadata": {
        "id": "EIkOJGA2EPxl"
      },
      "source": [
        "best_model_dir = \"./model_checkpoints/PointerNet/bn_ck_step_5000.pt\""
      ],
      "execution_count": 20,
      "outputs": []
    },
    {
      "cell_type": "code",
      "metadata": {
        "id": "NJE_3NphvDbx"
      },
      "source": [
        "def test(nl):\n",
        "  nl = '\\n'.join(nl.split())\n",
        "  nl = split(nl)\n",
        "  nl = nl.replace('\\n ', '\\n')\n",
        "  with open(\"test.txt\", \"w\") as f:\n",
        "    f.write(nl)\n",
        "  \n",
        "  !python OpenNMT-py-legacy/translate.py -model $best_model_dir -src \\\n",
        "  test.txt -output pred.txt -replace_unk -beam_size 1\n",
        "\n",
        "  out = open(\"pred.txt\", encoding='utf-8').read()\n",
        "  out.replace('\\n', '_')\n",
        "  out = merge(out)\n",
        "  print(out)"
      ],
      "execution_count": 21,
      "outputs": []
    },
    {
      "cell_type": "code",
      "metadata": {
        "id": "pJ2Tj4KyQx5G",
        "colab": {
          "base_uri": "https://localhost:8080/"
        },
        "outputId": "1425afd8-503e-40fd-d03a-e030f2683cfe"
      },
      "source": [
        "nl = \"\"\"আপনি কেমন আছেন\"\"\"\n",
        "test(nl)"
      ],
      "execution_count": 22,
      "outputs": [
        {
          "output_type": "stream",
          "text": [
            "[2021-06-01 10:15:41,659 INFO] Translating shard 0.\n",
            "[2021-06-01 10:15:41,683 INFO] PRED AVG SCORE: -0.1549, PRED PPL: 1.1675\n",
            "আমনি কেজা আ \n"
          ],
          "name": "stdout"
        }
      ]
    }
  ]
}